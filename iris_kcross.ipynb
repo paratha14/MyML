{
  "nbformat": 4,
  "nbformat_minor": 0,
  "metadata": {
    "colab": {
      "provenance": []
    },
    "kernelspec": {
      "name": "python3",
      "display_name": "Python 3"
    },
    "language_info": {
      "name": "python"
    }
  },
  "cells": [
    {
      "cell_type": "code",
      "execution_count": 26,
      "metadata": {
        "id": "GPFa0L0djIF4"
      },
      "outputs": [],
      "source": [
        "import pandas as pd\n",
        "import numpy as np\n",
        "import matplotlib.pyplot\n",
        "from sklearn.linear_model import LogisticRegression\n",
        "from sklearn import tree\n",
        "from sklearn.ensemble import RandomForestClassifier"
      ]
    },
    {
      "cell_type": "code",
      "source": [
        "from sklearn.datasets import load_iris"
      ],
      "metadata": {
        "id": "OE9igUtfjcaP"
      },
      "execution_count": 27,
      "outputs": []
    },
    {
      "cell_type": "code",
      "source": [
        "i= load_iris()"
      ],
      "metadata": {
        "id": "sndBQEkXj0d4"
      },
      "execution_count": 28,
      "outputs": []
    },
    {
      "cell_type": "code",
      "source": [
        "dir(i)"
      ],
      "metadata": {
        "colab": {
          "base_uri": "https://localhost:8080/"
        },
        "id": "GrK0IrvNj4PQ",
        "outputId": "d033d3eb-e98d-4f71-ec37-f7e5d5155679"
      },
      "execution_count": 29,
      "outputs": [
        {
          "output_type": "execute_result",
          "data": {
            "text/plain": [
              "['DESCR',\n",
              " 'data',\n",
              " 'data_module',\n",
              " 'feature_names',\n",
              " 'filename',\n",
              " 'frame',\n",
              " 'target',\n",
              " 'target_names']"
            ]
          },
          "metadata": {},
          "execution_count": 29
        }
      ]
    },
    {
      "cell_type": "code",
      "source": [
        "#using cross_val_score approach\n",
        "from sklearn.model_selection import cross_val_score\n",
        "print(cross_val_score(tree.DecisionTreeClassifier(),i.data,i.target,cv=3))\n",
        "print(cross_val_score(RandomForestClassifier(),i.data,i.target,cv=3))\n"
      ],
      "metadata": {
        "colab": {
          "base_uri": "https://localhost:8080/"
        },
        "id": "Y_cdcbbzj5zU",
        "outputId": "2ac1b7d8-c256-4632-b5fe-cad7917f89fe"
      },
      "execution_count": 30,
      "outputs": [
        {
          "output_type": "stream",
          "name": "stdout",
          "text": [
            "[0.98 0.92 0.98]\n",
            "[0.98 0.94 0.92]\n"
          ]
        }
      ]
    },
    {
      "cell_type": "code",
      "source": [
        "#scaling data for logistic regression\n",
        "from sklearn.preprocessing import StandardScaler\n",
        "s= StandardScaler().fit(i.data)\n",
        "s\n",
        "s.mean_\n",
        "s.scale_\n",
        "X=s.transform(i.data)\n"
      ],
      "metadata": {
        "id": "aNJLK5YFkTMu"
      },
      "execution_count": 31,
      "outputs": []
    },
    {
      "cell_type": "code",
      "source": [
        "print(cross_val_score(LogisticRegression(),X,i.target,cv=3))"
      ],
      "metadata": {
        "colab": {
          "base_uri": "https://localhost:8080/"
        },
        "id": "ehhW0snOmY30",
        "outputId": "0b6cbece-4c99-4293-9627-6f8d1bb5de72"
      },
      "execution_count": 32,
      "outputs": [
        {
          "output_type": "stream",
          "name": "stdout",
          "text": [
            "[0.98 0.96 0.96]\n"
          ]
        }
      ]
    }
  ]
}