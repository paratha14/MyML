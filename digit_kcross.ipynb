{
  "nbformat": 4,
  "nbformat_minor": 0,
  "metadata": {
    "colab": {
      "provenance": []
    },
    "kernelspec": {
      "name": "python3",
      "display_name": "Python 3"
    },
    "language_info": {
      "name": "python"
    }
  },
  "cells": [
    {
      "cell_type": "code",
      "execution_count": 27,
      "metadata": {
        "id": "Xq1bDawOnmyv"
      },
      "outputs": [],
      "source": [
        "from sklearn.datasets import load_digits\n",
        "from sklearn import tree\n",
        "from sklearn.linear_model import LogisticRegression\n",
        "\n",
        "from sklearn.model_selection import KFold"
      ]
    },
    {
      "cell_type": "code",
      "source": [
        "d= load_digits()\n",
        "kf=KFold(n_splits=3)"
      ],
      "metadata": {
        "id": "F_K9k-6ioH4-"
      },
      "execution_count": 28,
      "outputs": []
    },
    {
      "cell_type": "code",
      "source": [
        "dir(d)"
      ],
      "metadata": {
        "colab": {
          "base_uri": "https://localhost:8080/"
        },
        "id": "d2MR58kUoz6R",
        "outputId": "312aa0fc-b47f-4a2b-e627-7a5108279be1"
      },
      "execution_count": 29,
      "outputs": [
        {
          "output_type": "execute_result",
          "data": {
            "text/plain": [
              "['DESCR', 'data', 'feature_names', 'frame', 'images', 'target', 'target_names']"
            ]
          },
          "metadata": {},
          "execution_count": 29
        }
      ]
    },
    {
      "cell_type": "code",
      "source": [
        "for train_index,test_index in kf.split([1,2,3,4,5,6,7,8,9]):\n",
        "  print(train_index,test_index)"
      ],
      "metadata": {
        "colab": {
          "base_uri": "https://localhost:8080/"
        },
        "id": "GhuzeeGXo1K7",
        "outputId": "0bddf3dd-5766-4114-ffb6-edf42c3b72a9"
      },
      "execution_count": 30,
      "outputs": [
        {
          "output_type": "stream",
          "name": "stdout",
          "text": [
            "[3 4 5 6 7 8] [0 1 2]\n",
            "[0 1 2 6 7 8] [3 4 5]\n",
            "[0 1 2 3 4 5] [6 7 8]\n"
          ]
        }
      ]
    },
    {
      "cell_type": "code",
      "source": [
        "def get_score(model,X_train,X_test,y_train,y_test):\n",
        "  model.fit(X_train,y_train)\n",
        "  return model.score(X_test,y_test)"
      ],
      "metadata": {
        "id": "OD5MwYNIpFS3"
      },
      "execution_count": 31,
      "outputs": []
    },
    {
      "cell_type": "code",
      "source": [
        "#using StratifiedKFold\n",
        "from sklearn.model_selection import StratifiedKFold\n",
        "skf= StratifiedKFold(n_splits=5)"
      ],
      "metadata": {
        "id": "RVbF7uMDpT42"
      },
      "execution_count": 32,
      "outputs": []
    },
    {
      "cell_type": "code",
      "source": [
        "for train_index,test_index in skf.split(d.data,d.target):\n",
        "  X_train,X_test,y_train,y_test=d.data[train_index],d.data[test_index],d.target[train_index],d.target[test_index]\n",
        "  print(get_score(tree.DecisionTreeClassifier(),X_train,X_test,y_train,y_test))\n",
        ""
      ],
      "metadata": {
        "colab": {
          "base_uri": "https://localhost:8080/"
        },
        "id": "C0y7PPQHp5h0",
        "outputId": "1be58e0f-ca2f-4e45-aa46-ce41c251808a"
      },
      "execution_count": 33,
      "outputs": [
        {
          "output_type": "stream",
          "name": "stdout",
          "text": [
            "0.7777777777777778\n",
            "0.7111111111111111\n",
            "0.7910863509749304\n",
            "0.8356545961002786\n",
            "0.8022284122562674\n"
          ]
        }
      ]
    },
    {
      "cell_type": "code",
      "source": [
        "#Using cross_val_score\n",
        "from sklearn.model_selection import  cross_val_score\n",
        "from sklearn.preprocessing import StandardScaler\n",
        "ss= StandardScaler().fit(d.data)\n",
        "ss.mean_\n",
        "ss.scale_\n",
        "X=ss.transform(d.data)\n",
        "X\n",
        "print(cross_val_score(tree.DecisionTreeClassifier(),d.data,d.target,cv=3))\n",
        "\n",
        "print(cross_val_score(LogisticRegression(),X,d.target,cv=3))"
      ],
      "metadata": {
        "colab": {
          "base_uri": "https://localhost:8080/"
        },
        "id": "VcZerR3oqe7F",
        "outputId": "fb0c7b5e-4c67-4ffd-b671-777240f374a0"
      },
      "execution_count": 34,
      "outputs": [
        {
          "output_type": "stream",
          "name": "stdout",
          "text": [
            "[0.75125209 0.81135225 0.76627713]\n",
            "[0.92487479 0.93823038 0.92988314]\n"
          ]
        }
      ]
    }
  ]
}